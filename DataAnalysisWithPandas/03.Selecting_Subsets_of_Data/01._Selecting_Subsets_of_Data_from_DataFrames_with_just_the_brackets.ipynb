{
 "cells": [
  {
   "cell_type": "markdown",
   "metadata": {},
   "source": [
    "# Selecting Subsets of Data from DataFrames with just the brackets\n",
    "\n",
    "## Selecting Subsets of Data\n",
    "One of the most common tasks during a data analysis is to select a subset of the dataset. In pandas, this means selecting particular rows and/or columns from a DataFrame or Series. Although subset selection sounds like an easy task, and is an easy task for many other data manipulation tools, it's actually quite complex with pandas.\n",
    "\n",
    "### Examples of Selections of Subsets of Data\n",
    "The following images show different types of subset selection that are possible. We will first highlight the values we want to select and then show the corresponding DataFrame after the completed selection.\n",
    "\n",
    "### Selection of columns\n",
    "\n",
    "The most common subset selection, involves selecting one or more of the columns of a DataFrame. In this example, we select the `color`, `age`, and `height` columns.\n",
    "\n",
    "![][2]\n",
    "\n",
    "Resulting DataFrame:\n",
    "\n",
    "![][3]\n",
    "\n",
    "### Selection of rows\n",
    "\n",
    "Subsets of rows are a less frequent selection. In this example, we select the rows labeled `Aaron` and `Dean`.\n",
    "\n",
    "![][4]\n",
    "\n",
    "Resulting DataFrame:\n",
    "\n",
    "![][5]\n",
    "\n",
    "### Simultaneous selection of rows and columns\n",
    "\n",
    "The last type of subset selection involves selecting rows and columns simultaneously. In this example, we select the `color`, `age`, and `height` columns along with the rows labeled `Aaron` and `Dean`.\n",
    "\n",
    "![][6]\n",
    "\n",
    "Resulting DataFrame:\n",
    "\n",
    "![][7]\n",
    "\n",
    "[1]: images/sample_df.png\n",
    "[2]: images/just_cols.png\n",
    "[3]: images/just_cols2.png\n",
    "[4]: images/just_rows.png\n",
    "[5]: images/just_rows2.png\n",
    "[6]: images/rows_cols.png\n",
    "[7]: images/rows_cols2.png"
   ]
  },
  {
   "cell_type": "markdown",
   "metadata": {},
   "source": [
    "## pandas dual references: by label and by integer location\n",
    "As previously mentioned, the index of each DataFrame provides a label to reference each individual row. Similarly, the column names provide a label to reference each column. What hasn't been mentioned, is that each row and column may be referenced by an integer as well. I call this **integer location**. The integer location begins at 0 for the first row and continues sequentially one integer at a time until the last row. The last row will have integer location `n - 1`, where `n` is the total number of rows in the DataFrame. \n",
    "\n",
    "Take a look above at our sample DataFrame one more time. The rows with labels `Aaron` and `Dean` can also be referenced by their respective integer locations 2 and 4. Similarly, the columns `color`, `age`, and `height` can be referenced by their integer locations 1, 3, and 4.\n",
    "\n",
    "The official pandas documentation refers to integer location as **position**. I don't particularly like this terminology as it's not as explicit as integer location. The key term here is **integers**.\n",
    "\n",
    "### What's the difference between indexing and selecting subsets of data?\n",
    "The documentation uses the term **indexing** frequently. This term means is a shorter, more technical term that implies **subset selection**. I prefer the term subset selection as, again, it is more descriptive of what is actually happening. Indexing is also the term used in the official Python documentation (for selecting subsets of lists or strings for example).\n",
    "\n",
    "## The three indexers `[ ]`, `loc`, `iloc`\n",
    "\n",
    "pandas provides three **indexers** to select subsets of data. An indexer is a term for one of  `[ ]`, `loc`, or `iloc` and what makes the subset selection. All the details on how to make selections with each of these indexers will be covered. Each indexer has different rules for how it works. All of our selections will look similar to the following, except they will have something placed within the brackets.\n",
    "\n",
    "```\n",
    ">>> df[]\n",
    ">>> df.loc[]\n",
    ">>> df.iloc[]\n",
    "```\n",
    "\n",
    "### Terminology\n",
    "When the brackets are placed directly after the DataFrame, the term **just the brackets** will be used to differentiate them from the brackets after `loc` and `iloc`.\n",
    "\n",
    "### Square brackets instead of parentheses\n",
    "One of the most common mistakes when using `loc` and `iloc` is to append parentheses to them, instead of square brackets. One of the main reasons this mistake is done is because `loc` and `iloc` appear to be methods and all methods are called with parentheses. Both `loc` and `iloc` are not methods, but are accessed in the same manner as methods through the dot notation, which leads to the mistake.\n",
    "\n",
    "Few objects accessed through the dot notation will use brackets instead of parentheses. It helps to know that the brackets are a universal operator for selecting subsets of data regardless of the type of object. The brackets select subsets of lists, strings, and select a single value in a dictionary. numpy arrays use the brackets operator for subset selection. So, if you are doing subset selection, it's likely that the object uses brackets and not parentheses.\n",
    "\n",
    "## Begin with *just the brackets*\n",
    "As we saw in a previous chapter, just the brackets are used to select a single column as a Series. We place the column name inside the brackets to return the Series. Let's read in a simple, small DataFrame and select a single column."
   ]
  },
  {
   "cell_type": "code",
   "execution_count": null,
   "metadata": {},
   "outputs": [],
   "source": [
    "import pandas as pd\n",
    "df = pd.read_csv('../data/sample_data.csv', index_col=0)\n",
    "df"
   ]
  },
  {
   "cell_type": "markdown",
   "metadata": {},
   "source": [
    "Append square brackets directly to the name of the DataFrame and then place the name of the column within those brackets. A single column of data is selected as a Series."
   ]
  },
  {
   "cell_type": "code",
   "execution_count": null,
   "metadata": {},
   "outputs": [],
   "source": [
    "df['color']"
   ]
  },
  {
   "cell_type": "markdown",
   "metadata": {},
   "source": [
    "## Select Multiple Columns with a List\n",
    "You can select multiple columns by placing them in a list inside of just the brackets. Notice that a DataFrame and NOT a Series is returned."
   ]
  },
  {
   "cell_type": "code",
   "execution_count": null,
   "metadata": {},
   "outputs": [],
   "source": [
    "df[['color', 'age', 'score']]"
   ]
  },
  {
   "cell_type": "markdown",
   "metadata": {},
   "source": [
    "### You must use an inner set of brackets\n",
    "You might be tempted to do the following which will NOT work. When selecting multiple columns, you must use a **list** to contain the names. Remember that a list is defined by a set of square brackets, so the following will raise an error."
   ]
  },
  {
   "cell_type": "code",
   "execution_count": null,
   "metadata": {},
   "outputs": [],
   "source": [
    "df['color', 'age', 'score']"
   ]
  },
  {
   "cell_type": "markdown",
   "metadata": {},
   "source": [
    "### Use two lines of code to select multiple columns\n",
    "To help clarify the process of making subset selection, I recommend using intermediate variables. In this instance, we can assign the columns we would like to select to a list and then pass this list to the brackets."
   ]
  },
  {
   "cell_type": "code",
   "execution_count": null,
   "metadata": {},
   "outputs": [],
   "source": [
    "cols = ['color', 'age', 'score']\n",
    "df[cols]"
   ]
  },
  {
   "cell_type": "markdown",
   "metadata": {},
   "source": [
    "### Column order does not matter\n",
    "You can create new DataFrames in any column order you wish. They do need not match the original column order."
   ]
  },
  {
   "cell_type": "code",
   "execution_count": null,
   "metadata": {},
   "outputs": [],
   "source": [
    "cols = ['height', 'age']\n",
    "df[cols]"
   ]
  },
  {
   "cell_type": "markdown",
   "metadata": {},
   "source": [
    "## Exercises\n",
    "For the following exercises, make sure to use the movie dataset with `title` set as the index. It's good practice to shorten your output with the `head` method."
   ]
  },
  {
   "cell_type": "markdown",
   "metadata": {},
   "source": [
    "### Exercise 1\n",
    "<span  style=\"color:green; font-size:16px\">Select the column with the director's name as a Series</span>"
   ]
  },
  {
   "cell_type": "code",
   "execution_count": null,
   "metadata": {},
   "outputs": [],
   "source": []
  },
  {
   "cell_type": "markdown",
   "metadata": {},
   "source": [
    "### Exercise 2\n",
    "<span  style=\"color:green; font-size:16px\">Select the column with the director's name and number of Facebook likes.</span>"
   ]
  },
  {
   "cell_type": "code",
   "execution_count": null,
   "metadata": {},
   "outputs": [],
   "source": []
  },
  {
   "cell_type": "markdown",
   "metadata": {},
   "source": [
    "### Exercise 3\n",
    "<span  style=\"color:green; font-size:16px\">Select a single column as a DataFrame and not a Series</span>"
   ]
  },
  {
   "cell_type": "code",
   "execution_count": null,
   "metadata": {},
   "outputs": [],
   "source": []
  },
  {
   "cell_type": "markdown",
   "metadata": {},
   "source": [
    "### Exercise 4\n",
    "<span  style=\"color:green; font-size:16px\">Look in the data folder and read in another dataset. Select some columns from it.</span>"
   ]
  },
  {
   "cell_type": "code",
   "execution_count": null,
   "metadata": {},
   "outputs": [],
   "source": []
  }
 ],
 "metadata": {
  "kernelspec": {
   "display_name": "Python 3",
   "language": "python",
   "name": "python3"
  },
  "language_info": {
   "codemirror_mode": {
    "name": "ipython",
    "version": 3
   },
   "file_extension": ".py",
   "mimetype": "text/x-python",
   "name": "python",
   "nbconvert_exporter": "python",
   "pygments_lexer": "ipython3",
   "version": "3.7.3"
  },
  "varInspector": {
   "cols": {
    "lenName": 16,
    "lenType": 16,
    "lenVar": 40
   },
   "kernels_config": {
    "python": {
     "delete_cmd_postfix": "",
     "delete_cmd_prefix": "del ",
     "library": "var_list.py",
     "varRefreshCmd": "print(var_dic_list())"
    },
    "r": {
     "delete_cmd_postfix": ") ",
     "delete_cmd_prefix": "rm(",
     "library": "var_list.r",
     "varRefreshCmd": "cat(var_dic_list()) "
    }
   },
   "types_to_exclude": [
    "module",
    "function",
    "builtin_function_or_method",
    "instance",
    "_Feature"
   ],
   "window_display": false
  }
 },
 "nbformat": 4,
 "nbformat_minor": 2
}
