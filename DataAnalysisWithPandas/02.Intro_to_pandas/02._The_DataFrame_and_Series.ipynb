{
 "cells": [
  {
   "cell_type": "markdown",
   "metadata": {},
   "source": [
    "# The DataFrame and Series\n",
    "\n",
    "The DataFrame and Series are the two primary pandas objects that we will be using throughout this book.\n",
    "\n",
    "* **DataFrame** - A two-dimensional data structure that looks like any other rectangular table of data you have seen with rows and columns.\n",
    "* **Series** - A single dimension of data. It is analogous to a single column of data or a one dimensional array.\n",
    "\n",
    "## Import pandas and read in data with `read_csv`\n",
    "\n",
    "By convention, pandas is imported and aliased as `pd`. We will read in the `bikes` dataset with the `read_csv` function. Its first parameter is the location of the file relative to the current directory as a string. All of the data for this book is stored in the `data` directory one level above where this notebook is located. The two dots in the path passed to `read_csv` are interpreted as the directory immediately above the current one.\n",
    "\n",
    "[1]: images/pandas_logo.png\n",
    "[2]: http://stackoverflow.com/questions/tagged/pandas\n",
    "[3]: https://www.youtube.com/watch?v=kHdkFyGCxiY\n",
    "[4]: http://www.numpy.org/"
   ]
  },
  {
   "cell_type": "code",
   "execution_count": null,
   "metadata": {},
   "outputs": [],
   "source": [
    "import pandas as pd\n",
    "bikes = pd.read_csv('../data/bikes.csv')"
   ]
  },
  {
   "cell_type": "markdown",
   "metadata": {},
   "source": [
    "### Display DataFrame in Jupyter Notebook\n",
    "We assigned the output from the `read_csv` function to the `bikes` variable which now refers to our DataFrame object. To visually display the DataFrame, place the variable name as the last line in a code cell. By default, pandas outputs 60 rows and 20 columns. \n",
    "\n",
    "### `head` and `tail` methods\n",
    "A very useful and simple method is `head`, which returns the first 5 rows of the DataFrame by default. This avoids long default output and is something I highly recommend when doing data analysis within a notebook. The `tail` method returns the last 5 rows by default. There will be very few instances in the book where the `head` method is not used as displaying 60 rows is far too many and will take up a lot of space on a screen or page."
   ]
  },
  {
   "cell_type": "code",
   "execution_count": null,
   "metadata": {},
   "outputs": [],
   "source": [
    "bikes.head()"
   ]
  },
  {
   "cell_type": "markdown",
   "metadata": {},
   "source": [
    "The last five rows of the DataFrame are displayed with the `tail` method."
   ]
  },
  {
   "cell_type": "code",
   "execution_count": null,
   "metadata": {},
   "outputs": [],
   "source": [
    "bikes.tail()"
   ]
  },
  {
   "cell_type": "markdown",
   "metadata": {},
   "source": [
    "### First and last `n` rows\n",
    "Both the `head` and `tail` methods take a single integer parameter `n` controlling the number of rows returned. Here, we output the first three rows."
   ]
  },
  {
   "cell_type": "code",
   "execution_count": null,
   "metadata": {},
   "outputs": [],
   "source": [
    "bikes.head(3)"
   ]
  },
  {
   "cell_type": "markdown",
   "metadata": {},
   "source": [
    "## Components of a DataFrame\n",
    "\n",
    "The DataFrame is composed of three separate components - the **columns**, the **index**, and the **data**. These terms will be used throughout the book and understanding them is vital to your ability to use pandas. Take a look at the following graphic of our `bikes` DataFrame stylized to put emphasis on each component.\n",
    "\n",
    "![][1]\n",
    "\n",
    "[1]: images/df_components.png\n",
    "\n",
    "### The index\n",
    "The index provides a **label** for each row and will always be displayed in **bold** font to the left of the data. For instance, the index label **3** references all the values in its row.\n",
    "\n",
    "The index is also referred to as the **row labels** and individual values in the index are referred to as an **index label** or **row label**. A major purpose of the index is to identify each row in the DataFrame. Similarly to how we humans have names to identify ourselves, the index has labels to identify each row.\n",
    "\n",
    "In the above DataFrame, the index is simply a sequence of integers beginning at 0. The values in the index are not limited to integers. Strings are a common type that are used in the index and make for more descriptive labels.\n",
    "\n",
    "Surprisingly, values in the index are not required to be unique. In fact, all the index values can be the same. This is important to understand, as knowing a row label does not guarantee a one-to-one mapping to one specific row.\n",
    "\n",
    "### The columns\n",
    "The columns provide a **label** for each column and will always be displayed in **bold** font above the data. In the above DataFrame, the column name `from_station_name` references all the values in that column.\n",
    "\n",
    "The columns are also referred to as the **column names** or the **column labels** with individual values referred to as a **column name** or **column label**.\n",
    "\n",
    "The column names in the above DataFrame are strings, but can be other types such as integers though string names are more descriptive. Like the index, pandas will default column names to an integer sequence beginning at 0, if the columns are not provided upon DataFrame creation.\n",
    "\n",
    "As with the index, the column names are not required to be unique, though having duplicate columns would be bad practice as its vital to be able to uniquely identify each column.\n",
    "\n",
    "### The data\n",
    "The actual data is to the right of the index and below the columns and is always in normal font. The data is also referred to as the **values**. The data represents all the values for all the columns. It is important to note that the index and the columns are NOT part of the data. They are separate objects and act as **labels**.\n",
    "\n",
    "### The Axes\n",
    "The index and columns are known collectively as the **axes** and each represent a single **axis** of the two-dimensional DataFrame. pandas uses the integer **0** for the index and <strong>1</strong> for the columns. pandas allows you to use these integers when referencing the index and columns within methods. This terminology is borrowed from numpy's ndarray objects which can have any number of dimensions."
   ]
  },
  {
   "cell_type": "markdown",
   "metadata": {},
   "source": [
    "## What type of object is `bikes`?\n",
    "Let's verify that `bikes` is indeed a DataFrame with the `type` function."
   ]
  },
  {
   "cell_type": "code",
   "execution_count": null,
   "metadata": {},
   "outputs": [],
   "source": [
    "type(bikes)"
   ]
  },
  {
   "cell_type": "markdown",
   "metadata": {},
   "source": [
    "### Fully-qualified name\n",
    "The above output returns something called the **fully-qualified name**. Only the word after the last dot is the name of the type and in this case we have verified that the `bikes` variable has type `DataFrame`. The fully-qualified name always returns the package and module name of where the type was defined.\n",
    "\n",
    "The package name is the first part of the fully-qualified name and in this case is `pandas`. The module name is the word immediately preceding the name of the type and in this case is `frame`.\n",
    "\n",
    "### Package vs Module\n",
    "A Python **package** is a directory containing other directories or modules. A Python **module** is a file (typically a text file ending in .py) that contains Python code of where the type is defined (typically with a `class` statement).\n",
    "\n",
    "### Sub-packages\n",
    "Any directory containing other directories or modules within a Python package is considered a **sub-package**. In this case, `core` is the sub-package.\n",
    "\n",
    "### Where are the packages located on my machine?\n",
    "Third-party packages are installed in the `site-packages` directory which itself is set up during Python installation. We can get the actual location with the help from the standard library's `site` module's `getsitepackages` function."
   ]
  },
  {
   "cell_type": "code",
   "execution_count": null,
   "metadata": {},
   "outputs": [],
   "source": [
    "import site\n",
    "sp = site.getsitepackages()\n",
    "sp"
   ]
  },
  {
   "cell_type": "markdown",
   "metadata": {},
   "source": [
    "You can navigate to this directory with your file explorer. The will be a 'pandas' directory found there and within that will be a 'core' directory which will contain the 'frame.py' file. It is this text file which contains Python code where the DataFrame class is defined."
   ]
  },
  {
   "cell_type": "markdown",
   "metadata": {},
   "source": [
    "## Select a single column from a DataFrame - a Series\n",
    "To select a single column from a DataFrame, pass the name of one of the columns to the brackets operator, `[]`. The returned object will be a pandas **Series**. Let's select the column name `tripduration`, assign it to a variable, and output the first few values to the screen. The `head` and `tail` methods work the same as they do with DataFrames."
   ]
  },
  {
   "cell_type": "code",
   "execution_count": null,
   "metadata": {},
   "outputs": [],
   "source": [
    "trip_duration = bikes['tripduration']\n",
    "trip_duration.head()"
   ]
  },
  {
   "cell_type": "code",
   "execution_count": null,
   "metadata": {},
   "outputs": [],
   "source": [
    "trip_duration.tail(3)"
   ]
  },
  {
   "cell_type": "markdown",
   "metadata": {},
   "source": [
    "## Components of a Series - the index and the data\n",
    "A Series is simpler than a DataFrame with just a single dimension of data. It has two components - the **index** and the **data**. Let's take a look at a stylized Series graphic.\n",
    "\n",
    "![](images/series_components.png)\n",
    "\n",
    "It's important to note that a Series has no rows and no columns. In appearance, it resembles a one-column DataFrame, but it technically has no columns. It just has a sequence of values that are labeled by an index.\n",
    "\n",
    "### The index\n",
    "\n",
    "A Series index serves as labels for the values and a single index **label** always references a single value. In the above image, the index label **3** corresponds with the value 667. The Series index is virtually identical to the DataFrame index, so the same rules apply to it. Index values can be duplicated and can be types other than integers, such as strings. \n",
    "\n",
    "### Output of Series vs DataFrame\n",
    "Notice that there is no nice HTML styling for the Series. It's just plain text. Also, below each Series will be some metadata on it - the **name**, **length**, and **dtype**. \n",
    "\n",
    "* The **name** is not important right now. If the Series is formed from a column of a DataFrame it will be set to that column name.\n",
    "* The **length** is the number of values in the Series\n",
    "* The **dtype** is the data type of the Series, which will be discussed in upcoming chapters.\n",
    "\n",
    "It's important to note that this metadata is NOT part of the Series itself and is just some extra info pandas outputs for your information.\n",
    "\n",
    "## Exercises\n",
    "Use the `bikes` DataFrame for the following exercises."
   ]
  },
  {
   "cell_type": "markdown",
   "metadata": {},
   "source": [
    "### Exercise 1\n",
    "<span  style=\"color:green; font-size:16px\">Select the column `events`, the type of weather that was recorded, and assign it to a variable with the same name. Output the first 10 values of it.</span>"
   ]
  },
  {
   "cell_type": "code",
   "execution_count": null,
   "metadata": {},
   "outputs": [],
   "source": []
  },
  {
   "cell_type": "markdown",
   "metadata": {},
   "source": [
    "### Exercise 2\n",
    "<span  style=\"color:green; font-size:16px\">What type of object is `events`?</span>"
   ]
  },
  {
   "cell_type": "code",
   "execution_count": null,
   "metadata": {},
   "outputs": [],
   "source": []
  },
  {
   "cell_type": "markdown",
   "metadata": {},
   "source": [
    "### Exercise 3\n",
    "<span  style=\"color:green; font-size:16px\">Select the last 2 rows of the `bikes` DataFrame and assign it to the variable `bikes_last_2`. What type of object is `bikes_last_2`?</span>"
   ]
  },
  {
   "cell_type": "code",
   "execution_count": null,
   "metadata": {},
   "outputs": [],
   "source": []
  }
 ],
 "metadata": {
  "anaconda-cloud": {},
  "kernelspec": {
   "display_name": "Python 3",
   "language": "python",
   "name": "python3"
  },
  "language_info": {
   "codemirror_mode": {
    "name": "ipython",
    "version": 3
   },
   "file_extension": ".py",
   "mimetype": "text/x-python",
   "name": "python",
   "nbconvert_exporter": "python",
   "pygments_lexer": "ipython3",
   "version": "3.7.3"
  },
  "varInspector": {
   "cols": {
    "lenName": 16,
    "lenType": 16,
    "lenVar": 40
   },
   "kernels_config": {
    "python": {
     "delete_cmd_postfix": "",
     "delete_cmd_prefix": "del ",
     "library": "var_list.py",
     "varRefreshCmd": "print(var_dic_list())"
    },
    "r": {
     "delete_cmd_postfix": ") ",
     "delete_cmd_prefix": "rm(",
     "library": "var_list.r",
     "varRefreshCmd": "cat(var_dic_list()) "
    }
   },
   "types_to_exclude": [
    "module",
    "function",
    "builtin_function_or_method",
    "instance",
    "_Feature"
   ],
   "window_display": false
  }
 },
 "nbformat": 4,
 "nbformat_minor": 2
}
