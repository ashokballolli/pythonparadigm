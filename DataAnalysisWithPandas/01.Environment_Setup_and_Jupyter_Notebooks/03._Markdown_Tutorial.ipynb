{
 "cells": [
  {
   "cell_type": "markdown",
   "metadata": {},
   "source": [
    "# Markdown Tutorial\n",
    "\n",
    "I believe learning markdown is very valuable as it provides a means to improve the quality of the notebooks you create and even turn them into reports that can be published. In fact, the entirety of this book is written in markdown within Jupyter Notebooks. This tutorial will not cover all of the markdown specification, but instead focus on a few of the most important and useful commands. To learn more markdown, visit the following two resources:  \n",
    "\n",
    "* [Markdown Cheatsheet](https://github.com/adam-p/markdown-here/wiki/Markdown-Cheatsheet) by Adam Pritchard\n",
    "* [Markdown Tutorial](https://www.markdowntutorial.com/) by Garen Torikian\n",
    "\n",
    "## Headers\n",
    "\n",
    "Headers are larger-sized text that precede a paragraph of text. Headers are created by beginning a line with hash symbols followed by a space and then by the text of the header. Let's see an example:\n",
    "\n",
    "`# Some header`\n",
    "\n",
    "Writing the above in a markdown cell creates the largest possible header. If you are familiar with HTML, it corresponds with an **H1** header. Adding more hash symbols will decrease the size of the header. For instance, `#### Some header` creates an **H4** header. The smallest header, **H6**, uses six hash symbols.\n",
    "\n",
    "## Italics and bold\n",
    "To italicize words, surround them with a single asterisk. For instance, `*some phrase*` would create *some phrase* in markdown.\n",
    "\n",
    "To make words bold, surround them with a two consecutive asterisks. `**some phrase**` becomes **some phrase**."
   ]
  },
  {
   "cell_type": "markdown",
   "metadata": {},
   "source": [
    "## Code formatting\n",
    "When writing code within text, it's important that is formatted differently in order to read it as code more easily. To format code, wrap the contents in backticks, \\`. For instance, \\`a = 99\\` renders as `a = 99`. You can write blocks of code on separate lines with three backticks to start and end the block. The following shows an example of how you would write a few lines of code in a block.  "
   ]
  },
  {
   "cell_type": "markdown",
   "metadata": {},
   "source": [
    "\\`\\`\\`  \n",
    "a = 3  \n",
    "b = 4  \n",
    "c = a + b  \n",
    "\\`\\`\\` "
   ]
  },
  {
   "cell_type": "markdown",
   "metadata": {},
   "source": [
    "The above markdown is rendered as: \n",
    "\n",
    "```\n",
    "a = 3\n",
    "b = 4\n",
    "c = a + b\n",
    "```"
   ]
  },
  {
   "cell_type": "markdown",
   "metadata": {},
   "source": [
    "## Lists\n",
    "It is possible to create both unordered and ordered lists. Unordered lists are created by beginning a line with a single asterisk followed by a space. You can create a sublist by indenting an asterisk. The following markdown creates an unordered list with the second item having its own sublist.\n",
    "\n",
    "```\n",
    "* some iterm\n",
    "* another item\n",
    "    * sublist first item\n",
    "    * sublist second item\n",
    "* yet another item\n",
    "```"
   ]
  },
  {
   "cell_type": "markdown",
   "metadata": {},
   "source": [
    "The rendered markdown will look like the following:\n",
    "\n",
    "* some iterm\n",
    "* another item\n",
    "    * sublist first item\n",
    "    * sublist second item\n",
    "* yet another item"
   ]
  },
  {
   "cell_type": "markdown",
   "metadata": {},
   "source": [
    "Ordered lists are created by begging a line with a number followed by a period and a space. The first number determines the starting number of the list. The other numbers do not affect the actual number that is rendered. For instance, the following creates an ordered list from 1 to 3.  \n",
    "\n",
    "```\n",
    "1. first item\n",
    "1. second item\n",
    "1. third item\n",
    "```"
   ]
  },
  {
   "cell_type": "markdown",
   "metadata": {},
   "source": [
    "And here is the rendered markdown:  \n",
    "\n",
    "1. first item\n",
    "1. second item\n",
    "1. third item"
   ]
  },
  {
   "cell_type": "markdown",
   "metadata": {},
   "source": [
    "The following also creates an ordered list beginning at 4. Only the first item in the list controls which number is actually rendered.  \n",
    "\n",
    "```\n",
    "4. first item\n",
    "10. second item\n",
    "3. third item\n",
    "```"
   ]
  },
  {
   "cell_type": "markdown",
   "metadata": {},
   "source": [
    "The rendered markdown:  \n",
    "\n",
    "4. first item\n",
    "10. second item\n",
    "3. third item"
   ]
  },
  {
   "cell_type": "markdown",
   "metadata": {},
   "source": [
    "## Hyperlinks\n",
    "It is possible to create a hyperlink to any valid URL. There are two types of links, **reference** and **inline**. For both types, you begin by placing the words you would like to link within square brackets. For reference links, append an additional set of square brackets immediately following these brackets and place the reference text inside. The reference text can be anything, but I typically use numbers. Finally, place the reference text within square brackets on its own line followed by a colon and the URL. I can link to my business's home page like this:\n",
    "\n",
    "```\n",
    "[Visit Dunder Data for expert data science training][1]\n",
    "\n",
    "[1]: https://dunderdata.com\n",
    "```\n",
    "\n",
    "\n",
    "The rendered markdown:  \n",
    "\n",
    "\n",
    "[Visit Dunder Data for expert data science training][1]\n",
    "\n",
    "[1]: https://dunderdata.com"
   ]
  },
  {
   "cell_type": "markdown",
   "metadata": {},
   "source": [
    "With inline links, you place the link in parentheses immediately following the square brackets like this.\n",
    "```\n",
    "[Visit Dunder Data for expert data science training](https://dunderdata.com)\n",
    "```\n",
    "\n",
    "Both reference and inline links render the sam.e Although inline links offer slightly less typing, I prefer reference links as the markdown is easier to read. When I use reference links, I organize them by placing them all at the bottom of the cell."
   ]
  },
  {
   "cell_type": "markdown",
   "metadata": {},
   "source": [
    "## Images\n",
    "Adding images is similar to adding hyperlinks. The only difference is that a single exclamation mark, !, precedes the square brackets. The first set of square brackets contains text for the visually impaired, usually referred to as **alt text**. The link to the image can be a URL or relative link to a location in your file system that contains an image. The following is markdown using a reference link to a relative file location.\n",
    "\n",
    "\n",
    "```\n",
    "![A tiger lying down][2]\n",
    "\n",
    "[2]: images/tiger.png\n",
    "```\n",
    "\n",
    "Here is the rendered markdown:\n",
    "\n",
    "![A tiger lying down][2]\n",
    "\n",
    "[2]: images/tiger.png"
   ]
  },
  {
   "cell_type": "markdown",
   "metadata": {},
   "source": [
    "## New lines\n",
    "\n",
    "One surprising feature of markdown is how it enforces the creation of new lines. Simply pressing enter at the end of a line will not render a new line. You must end a line with two blank spaces in order for a new line to be rendered. For instance, the following markdown is rendered as one with its output below.  \n",
    "\n",
    "```\n",
    "This \n",
    "is \n",
    "one \n",
    "line \n",
    "of\n",
    "markdown\n",
    "```\n",
    "\n",
    "\n",
    "This\n",
    "is\n",
    "one\n",
    "line\n",
    "of\n",
    "markdown"
   ]
  }
 ],
 "metadata": {
  "kernelspec": {
   "display_name": "Python 3",
   "language": "python",
   "name": "python3"
  },
  "language_info": {
   "codemirror_mode": {
    "name": "ipython",
    "version": 3
   },
   "file_extension": ".py",
   "mimetype": "text/x-python",
   "name": "python",
   "nbconvert_exporter": "python",
   "pygments_lexer": "ipython3",
   "version": "3.7.3"
  }
 },
 "nbformat": 4,
 "nbformat_minor": 2
}
