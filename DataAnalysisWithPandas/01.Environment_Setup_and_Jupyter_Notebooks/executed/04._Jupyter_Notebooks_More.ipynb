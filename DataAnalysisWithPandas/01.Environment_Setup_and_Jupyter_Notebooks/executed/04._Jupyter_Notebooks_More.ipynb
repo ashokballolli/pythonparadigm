{
 "cells": [
  {
   "cell_type": "markdown",
   "metadata": {},
   "source": [
    "# Jupyter Notebooks More\n",
    "\n",
    "The Jupyter Notebook has limitations just like any tool and is not the best for every situation. There are certain situations that Jupyter Notebooks excel at and there are others where it fails. Depending on what you are doing, Jupyter may or may not be the appropriate tool. \n",
    "\n",
    "## Where Jupyter Notebooks Excel\n",
    "Jupyter Notebooks are excellent for constructing data explorations that incorporate code, visualizations, text, images, videos, and math text. Essentially, they are great at building a report that someone can read and get information from. They are great for blog posts, teaching, formal reports, and interview assignments.\n",
    "\n",
    "### Iterative and interactive workflow\n",
    "One of the best features of the notebook is that you can run one line of code, get output, and then use this output to run the next line of code. For many scientists, it will be absolutely necessary to process their thinking one line at a time. Writing multiple lines of code in a row just doesn't make sense because there needs to be some analysis or decision on the output of the previous line before continuing.\n",
    "\n",
    "This type of workflow is **iterative**, because code is constantly being executed, output examined, which leads to code being modified and executed again. It is **interactive** because we are getting results immediately upon running the code.\n",
    "\n",
    "### Using Jupyter as a light-weight Interactive Dashboard\n",
    "There are a number of [interactive widgets][1] that you can embed into the Notebook to give a user control. There are also interactive visualization libraries such as [bokeh][2] and [plotly][3] that both provide powerful tools for dashboards.\n",
    " \n",
    "## Where Jupyter Notebooks Fail\n",
    "You might not like notebooks. Don't fear, you will not be alone. There is no mandatory requirement to use Jupyter Notebooks to do data science. Traditional software development, such as building an application, would not be a time where Jupyter Notebooks would be a good choice. Other programming environments, such as PyCharm or Visual Studio Code provide much better tools to organize, test, write, refactor, debug and version control code.\n",
    "\n",
    "### Notebooks suffer from messiness\n",
    "It is incredibly easy to make a complete mess of your notebooks. They can become very difficult to follow especially if you do not document what is happening. It is easy to get carried away doing lots of scratch work and creating dozens of code cells that may or may not work.\n",
    "\n",
    "### Out of order code execution\n",
    "One built-in feature/problem with notebooks is that you can run any cell at any place at any time. In a normal computer program, control flows from one line to the next. With notebooks, you control which cells get executed, so it is easy to execute cells in a different order than their natural ordering. Furthermore, you can lose track of variable values.\n",
    "\n",
    "### Know where Jupyter Notebook development ends and traditional software development begins\n",
    "I only use Jupyter Notebooks whenever I am exploring data, building a formal report, or creating content. When exploring data, I typically use two notebooks, one for scratch work and another for my formal report. I ensure the formal notebook has the same behavior as a normal program by executing all the cells in order from the top. You can do this by using the option **Restart & Run All** from the **Kernel** menu or with the **Run All** option in the **Cell menu**. I also document my thoughts carefully in markdown cells.\n",
    "\n",
    "## On-demand Jupyter Notebooks\n",
    "\n",
    "There are a number of websites that host Jupyter Notebooks that you can use at any time with just a connection to the internet. All of the following sites allow for quick access to a notebook from anywhere in the world.\n",
    "\n",
    "* [Google Colaboratory][4]\n",
    "* [Microsoft Azure][5]\n",
    "* [Project Jupyter Home][6]\n",
    "    \n",
    "\n",
    "[1]: http://jupyter.org/widgets\n",
    "[2]: https://bokeh.pydata.org/en/latest/\n",
    "[3]: https://plot.ly/products/dash/\n",
    "[4]: https://colab.research.google.com/\n",
    "[5]: https://notebooks.azure.com/\n",
    "[6]: https://jupyter.org/try"
   ]
  }
 ],
 "metadata": {
  "kernelspec": {
   "display_name": "Python 3",
   "language": "python",
   "name": "python3"
  },
  "language_info": {
   "codemirror_mode": {
    "name": "ipython",
    "version": 3
   },
   "file_extension": ".py",
   "mimetype": "text/x-python",
   "name": "python",
   "nbconvert_exporter": "python",
   "pygments_lexer": "ipython3",
   "version": "3.7.3"
  }
 },
 "nbformat": 4,
 "nbformat_minor": 2
}
