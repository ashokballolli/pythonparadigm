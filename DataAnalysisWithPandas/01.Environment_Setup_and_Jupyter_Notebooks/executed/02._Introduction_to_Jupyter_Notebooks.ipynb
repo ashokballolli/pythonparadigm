{
 "cells": [
  {
   "cell_type": "markdown",
   "metadata": {},
   "source": [
    "# Introduction to Jupyter Notebooks\n",
    "\n",
    "## Jupyter Notebook Basics\n",
    "\n",
    "### Where am I?\n",
    "If you have never seen this application, then you might be wondering what strange place you have landed on the internet. You are now running a **Jupyter Notebook** server from your localhost at default port 8888. This specific notebook is connected to an IPython kernel capable of executing Python commands.\n",
    "\n",
    "### What are Jupyter Notebooks and why are we using them?\n",
    "Jupyter Notebooks allow you to interactively write code, visualize results, and enhance the output via markdown, HTML, LaTeX, and other rich content streams like this Monte Python image below.\n",
    "\n",
    "![Monte Python!][1]\n",
    "\n",
    "We are using them because they provide an excellent means to interactively and iteratively explore and visualize data in one place. They are also great for providing space for exercises.\n",
    "\n",
    "### What's the difference between IPython notebooks and Jupyter Notebooks?\n",
    "**IPython Notebook** was the original name for these notebooks. IPython itself, is an interactive Python shell that was created by Fernando Perez in 2001. You can run the IPython shell by simply opening a terminal (activating your minimal_ds environment) and running the command `ipython`. IPython Notebooks, created around 2011, gave IPython the web interface we use today. The idea of a web-based notebook was not new. They were already a popular way to do interactive computing in other languages like Maple or Mathematica.\n",
    "\n",
    "At first, IPython Notebooks only supported the execution of Python. As IPython Notebooks started to rise in popularity, developers started creating kernels capable of executing other languages. You can see a list of all the [backend execution kernels][4] currently available. In 2015, the project was renamed Jupyter, a name derived from the languages Julia, Python, and R. This '[big split][2]' resulted in the language agnostic bits separated from the actual execution of the code. As it turns out, lots of people enjoy working in this type of an environment and hopefully you will too.\n",
    "\n",
    "## Getting Started with Jupyter Notebooks\n",
    "\n",
    "It is very important that you understand the fundamentals of how to use Jupyter Notebooks. They are one of the most popular environments to explore data with and are the environment where all the material for this book was written. The remaining content in this chapter detail the very basics of how to use the Jupyter Notebook.\n",
    "\n",
    "### All notebooks are composed of cells\n",
    "Jupyter Notebooks are composed of **cells**. Every bit of content within a Jupyter Notebook, including this text, resides within a **cell**.\n",
    "\n",
    "### Markdown and Code cells\n",
    "There are two primary types of cells - **Markdown** and **Code** cells. The cell containing this text is a markdown cell. Markdown is a simple plain-text language that allows you to add some basic styles and links with little effort. Markdown is easy to learn with only about a dozen common commands. A brief tutorial is provided in a later chapter.\n",
    "\n",
    "For nearly all of the book, you will be working inside **Code** cells. Code cells are where you write and execute your Python code. Code cells only understand Python code.\n",
    "\n",
    "### Identifying Markdown and Code Cells\n",
    "It is easy to identify whether you are in a markdown or code cell. Click anywhere on this text exactly **once**. The outside border of the cell will turn **blue**. The word **Markdown** will also appear in the dropdown box in the center of the menu at the top of this page. \n",
    "\n",
    "![][6]\n",
    "\n",
    "Code cells will have the word **Code** in that same menu. Also, all code cells will have the word **`In`** displayed directly to the left of the cell and a number inside of brackets denoting its order of execution. If there is no number inside the brackets, then the code cell has yet to be executed. If the cell has been executed, the result will be displayed directly below with the word **`Out`** directly to the left. Some code cells do not output anything upon execution and will not have an **`Out`** section.\n",
    "\n",
    "![][7]\n",
    "\n",
    "### Edit Mode vs Command Mode\n",
    "Jupyter Notebook cells are always in one of two modes: **edit** or **command** mode. When in edit mode:  \n",
    "\n",
    "* Cells are outlined in **green**\n",
    "* Cells have a blinking cursor in them\n",
    "* Typing results in plain text inside the cell\n",
    "* A small pencil icon is visible in the top right-hand-side of the menu bar\n",
    "\n",
    "When in command mode:\n",
    "\n",
    "* Cells are outlined in **blue**\n",
    "* Cells do not have a blinking cursor and there is nowhere to type\n",
    "* The keys have special meanings\n",
    "* No small pencil icon visible in the top right-hand-side of the menu bar\n",
    "\n",
    "### Selected Cells\n",
    "There is always at least one cell in a notebook that is **selected**. A selected cell will be outlined in either green or blue depending on what mode it is in. Clicking on a cell is one way to select it.\n",
    "\n",
    "### Changing between edit and command Mode\n",
    "\n",
    "The very first task we will learn is how to change between edit and command mode. This is a common, valuable, and simple task. Let's practice changing from edit mode to command mode within a code cell. \n",
    "\n",
    "Click anywhere in the code cell below. It has a Python comment in green text. Clicking in the cell places you in edit mode. You should see a blinking cursor, a green outline around the cell, and will be able to type text directly into it. \n",
    "\n",
    "Press **esc** once to enter **command** mode. The cell outline will turn blue and the blinking cursor will have disappeared. From command mode, press **enter** to go back into edit mode. Practice changing from edit to command mode several times by alternating between pressing **esc** and **enter**.\n",
    "\n",
    "[1]: images/montepython.jpg\n",
    "[2]: https://blog.jupyter.org/the-big-split-9d7b88a031a7\n",
    "[3]: http://jupyter.readthedocs.io/en/latest/architecture/how_jupyter_ipython_work.html\n",
    "[4]: https://github.com/jupyter/jupyter/wiki/Jupyter-kernels\n",
    "[6]: images/markdown_menu.png\n",
    "[7]: images/code_cell.png\n",
    "[8]: https://dunderdata.com/books"
   ]
  },
  {
   "cell_type": "code",
   "execution_count": 1,
   "metadata": {},
   "outputs": [],
   "source": [
    "# I am a code cell. Click here."
   ]
  },
  {
   "cell_type": "markdown",
   "metadata": {},
   "source": [
    "### Changing modes in a markdown cell\n",
    "We will now practice changing between edit and command mode in a markdown cell. Click **this text** in this markdown cell once to select it. It should be outlined in blue, meaning it is in command mode. Change to **edit** mode by pressing **enter** (or double-clicking it).\n",
    "\n",
    "By changing to edit mode, you have revealed the underlying markdown text used to create the nicely formatted page. Press **shift + enter** to execute the markdown and return the cell contents back to the formatted display."
   ]
  },
  {
   "cell_type": "markdown",
   "metadata": {},
   "source": [
    "### More on Command Mode\n",
    "\n",
    "While in command mode, the keys are mapped to some specific command, such as inserting a new cell, deleting a cell, etc... You are quite literally *commanding* the notebook to do something. More details on command mode will be shown further below.\n",
    "\n",
    "## Executing Cells\n",
    "To execute all the lines of Python code within a cell, select it, and then press **shift + enter**. If the last line of code in your cell produces any output, then this value will be displayed in the **`Out`** section of the cell directly below it.\n",
    "\n",
    "### Execute your first cell\n",
    "Let's practice this by executing the cell directly below. It is a code cell that adds two numbers together. Select the cell in either edit or command mode and press **shift + enter** to execute it."
   ]
  },
  {
   "cell_type": "code",
   "execution_count": 2,
   "metadata": {},
   "outputs": [
    {
     "data": {
      "text/plain": [
       "12"
      ]
     },
     "execution_count": 2,
     "metadata": {},
     "output_type": "execute_result"
    }
   ],
   "source": [
    "5 + 7"
   ]
  },
  {
   "cell_type": "markdown",
   "metadata": {},
   "source": [
    "### Executing with ctrl + enter\n",
    "In addition to the output of the operation, the focus is moved to the next cell (this one), which has been selected in command mode. It is possible to execute a cell without moving the focus to the next cell by pressing **ctrl + enter**. Place your cursor in the next cell and execute it with **ctrl + enter**. You will remain in the current cell but in command mode."
   ]
  },
  {
   "cell_type": "code",
   "execution_count": 3,
   "metadata": {},
   "outputs": [
    {
     "data": {
      "text/plain": [
       "-7"
      ]
     },
     "execution_count": 3,
     "metadata": {},
     "output_type": "execute_result"
    }
   ],
   "source": [
    "3 - 10"
   ]
  },
  {
   "cell_type": "markdown",
   "metadata": {},
   "source": [
    "### Executing a cell with no output\n",
    "Not all code cells produce an **`Out`** section. Only those where the last line in the cell contains output. Run the following cell, which assigns the value 7 to the variable name `a`."
   ]
  },
  {
   "cell_type": "code",
   "execution_count": 4,
   "metadata": {},
   "outputs": [],
   "source": [
    "a = 7"
   ]
  },
  {
   "cell_type": "markdown",
   "metadata": {},
   "source": [
    "### Only last line of cell is output\n",
    "You can write any number of Python statements in a single cell, but only the last line of the cell will be outputted to the screen. Execute the following cell to verify this."
   ]
  },
  {
   "cell_type": "code",
   "execution_count": 5,
   "metadata": {},
   "outputs": [
    {
     "data": {
      "text/plain": [
       "2"
      ]
     },
     "execution_count": 5,
     "metadata": {},
     "output_type": "execute_result"
    }
   ],
   "source": [
    "5 + 7\n",
    "3 + 6\n",
    "4 - 2"
   ]
  },
  {
   "cell_type": "markdown",
   "metadata": {},
   "source": [
    "### Another example with multiple statements but no output\n",
    "It doesn't matter if statements before the last line produce output. What determines output is the last line of the cell. Execute the following cell which produces no output."
   ]
  },
  {
   "cell_type": "code",
   "execution_count": 6,
   "metadata": {},
   "outputs": [],
   "source": [
    "5 + 7\n",
    "3 + 6\n",
    "a = 4"
   ]
  },
  {
   "cell_type": "markdown",
   "metadata": {},
   "source": [
    "### An exception with the `print` function\n",
    "It is possible to produce output from lines that are not the last with the `print` function. Notice how the results of the first two statements are printed below the cell with the output of the last line still in its own **`Out`** section."
   ]
  },
  {
   "cell_type": "code",
   "execution_count": 7,
   "metadata": {},
   "outputs": [
    {
     "name": "stdout",
     "output_type": "stream",
     "text": [
      "12\n",
      "9\n"
     ]
    },
    {
     "data": {
      "text/plain": [
       "2"
      ]
     },
     "execution_count": 7,
     "metadata": {},
     "output_type": "execute_result"
    }
   ],
   "source": [
    "print(5 + 7)\n",
    "print(3 + 6)\n",
    "4 - 2"
   ]
  },
  {
   "cell_type": "markdown",
   "metadata": {},
   "source": [
    "## Keyboard Shortcuts\n",
    "\n",
    "There are a few keyboard shortcuts that will make your life working in a Jupyter Notebook much easier. Keyboard shortcuts exist both in command and edit mode and in fact, we have already issued some of them. Pressing **enter** in command mode is the keyboard shortcut to switch to edit mode. Pressing **esc** while in edit mode is the shortcut for returning to command mode. Cell execution with **shift/ctrl + enter** is a keyboard shortcut that works in both command and edit mode."
   ]
  },
  {
   "cell_type": "markdown",
   "metadata": {},
   "source": [
    "### Inserting cells\n",
    "\n",
    "Inserting cells above or below the currently selected cell is a common task that you can perform in command mode. To begin, select a cell and activate command mode by pressing **esc** once (you don't need to hold it). Press **A** to insert a cell above and <strong>B</strong> to insert a cell below the selected cell. Practice this now by inserting cells above and below the cell directly below.\n",
    "\n",
    "---"
   ]
  },
  {
   "cell_type": "markdown",
   "metadata": {},
   "source": [
    "Select this cell. Activate command mode (press **esc**) and then insert cells above by pressing **A** and below by pressing <strong>B</strong>."
   ]
  },
  {
   "cell_type": "code",
   "execution_count": null,
   "metadata": {},
   "outputs": [],
   "source": []
  },
  {
   "cell_type": "markdown",
   "metadata": {},
   "source": [
    "---\n",
    "### Deleting Cells\n",
    " It's often that you'll need to delete a cell. This is done in command mode by pressing **D** twice. Practice deleting some of the cells you just inserted above.\n",
    " \n",
    "\n",
    "### Using the menu to insert and delete cells\n",
    "Cell insertion and deletion can also be done through the menu at the top of the screen. The **Insert** menu handles insertion and the **Edit** menu has an option for deletion. \n",
    "\n",
    "### Keep your hands on the keyboard - Use the shortcuts\n",
    "I strongly recommend using the keyboard shortcuts instead of the menu commands. Keeping your hands on the keyboard allows you to focus on completing tasks instead of reaching for the mouse. They shortcuts will save you lots of time. There are only about a half-dozen commands that make up nearly all of my keyboard shortcut usage, so it should not be hard to memorize."
   ]
  },
  {
   "cell_type": "markdown",
   "metadata": {},
   "source": [
    "### Changing between Code and Markdown cells\n",
    "\n",
    "By default, all cells are code cells. To change the type of cell, select the cell in command mode and press <strong>M</strong> to change it to markdown. When in a markdown cell, press **Y** to change it back to a code cell. You can also change cell types from the dropdown menu at the top of the screen or from the <strong>Cell</strong> menu."
   ]
  },
  {
   "cell_type": "markdown",
   "metadata": {},
   "source": [
    "### Raw Cells\n",
    "\n",
    "You'll notice in both the dropdown menu above and from the **Cell** menu that you can change the cell type to a **raw** cell. This is an additional type of cell that has no special functionality. It is simply raw text. These cells can be used to contain code during notebook conversion to PDF or HTML through a library called [NBConvert][1].\n",
    "\n",
    "[1]: https://nbconvert.readthedocs.io/en/latest/"
   ]
  },
  {
   "cell_type": "markdown",
   "metadata": {},
   "source": [
    "### Other keyboard shortcuts\n",
    "\n",
    "There are many other keyboard shortcuts available, but the ones covered above should represent the vast majority of your usage. To find all the other shortcuts, activate command mode and press **H** or find them in the <strong>Help</strong> menu."
   ]
  },
  {
   "cell_type": "markdown",
   "metadata": {},
   "source": [
    "### Stopping Execution\n",
    "Occasionally, you will write code that creates an infinite loop or just takes too long to complete. You will see a star within the brackets like this (`In [*]`) when a cell is being executed.\n",
    "\n",
    "To stop execution, press the stop button ( &#9724; ) above or from the **Kernel** menu above select **interrupt**. If cell execution does not stop, select **restart** from the **Kernel** menu. All variable and function definitions will be lost when the notebook is restarted. If you are still unable to stop the execution, you need to go back to the terminal where you launched the notebook from and kill it pressing **ctrl + c** twice.\n",
    "\n",
    "\n",
    "### Exiting the browser tab\n",
    "Exiting the browser tab of where a notebook was open does not shut it down. The notebook will still be running in the same state as it was with all of the variables still in memory. You just no longer can visually see it in the browser. You will be able to reopen it from the Jupyter home page and continue using it just as you were.\n",
    "\n",
    "If you completely exit out of your browser, you can still get back to your Jupyter home page by navigating to URL `localhost:8888`.\n",
    "\n",
    "### Shutting down Jupyter\n",
    "To exit completely out of Jupyter, you'll need to exit the program where you launched it from - either a terminal shell or the Anaconda Prompt or by pressing **ctrl + c** twice within that program."
   ]
  },
  {
   "cell_type": "markdown",
   "metadata": {},
   "source": [
    "## Completing exercises in this book\n",
    "This book contains several hundred exercises all written in markdown cells. All exercises have a single code cell following them where you will write the solution. Unfortunately, there is one issue that will appear during every exercise. Whenever you execute the code for your solution, the next cell (the next exercise) will be selected in command mode. While this is fine if you have completed the exercise and want to move on to the next one, it is not ideal if you want to continue writing more code in a new cell. \n",
    "\n",
    "When you find yourself in this situation (which frequently happens), simply press <strong>A</strong> to insert a new cell above and then <strong>enter</strong> to go into edit mode in that new cell to continue writing more code. Practice resolving this situation by executing the code cell below exercise 1 by pressing **shift + enter** and then adding a new cell once you land on top of exercise 2."
   ]
  },
  {
   "cell_type": "markdown",
   "metadata": {},
   "source": [
    "### Exercise 1\n",
    "<span  style=\"color:green; font-size:16px\">What is 489 times 143?</span>"
   ]
  },
  {
   "cell_type": "code",
   "execution_count": null,
   "metadata": {},
   "outputs": [],
   "source": []
  },
  {
   "cell_type": "markdown",
   "metadata": {},
   "source": [
    "### Exercise 2\n",
    "<span  style=\"color:green; font-size:16px\">Some exercise here that is in the way!</span>"
   ]
  },
  {
   "cell_type": "code",
   "execution_count": null,
   "metadata": {},
   "outputs": [],
   "source": []
  },
  {
   "cell_type": "markdown",
   "metadata": {},
   "source": [
    "## Getting help in the notebook\n",
    "\n",
    "In this section, we will cover a couple tools provided within the notebook that help with writing code.\n",
    "\n",
    "### Attribute and method discovery\n",
    "A common difficultly when writing code (in any language) is to remember the syntax available to use. In Python, every object has attributes and methods that provide the functionality. Some objects have dozens or even hundreds of available attributes and methods. Even those who use these objects on a daily basis will have trouble remembering their names.\n",
    "\n",
    "The notebooks provide a way to discover all these possibilities with a simple process. With your variable name already assigned to an object, place a **dot** after it and then press **tab**. A dropdown, scrollable list of all the possible attributes and methods will appear. The following image depicts this process with a string object.\n",
    "\n",
    "![][1]\n",
    "\n",
    "[1]: images/dropdown.png"
   ]
  },
  {
   "cell_type": "markdown",
   "metadata": {},
   "source": [
    "### Reveal the documentation\n",
    "After you have selected a method to execute from your object, you'll need to know how to use it. With your cursor at the end of the method press **shift + tab + tab** to reveal the documentation. This is a trick I use frequently when working in a Jupyter Notebook. The data science libraries are vast and difficult to retain all the information in working memory. Revealing the documentation in the notebook as I am coding is very helpful. The following image depicts the documentation from a pandas DataFrame method.\n",
    "\n",
    "![][1]\n",
    "\n",
    "[1]: images/shift_tab_tab.png"
   ]
  },
  {
   "cell_type": "markdown",
   "metadata": {},
   "source": [
    "I find that being able to discover attributes and methods paired with the ability to reveal the documentation a powerful and useful combination when using Jupyter Notebooks."
   ]
  }
 ],
 "metadata": {
  "kernelspec": {
   "display_name": "Python 3",
   "language": "python",
   "name": "python3"
  },
  "language_info": {
   "codemirror_mode": {
    "name": "ipython",
    "version": 3
   },
   "file_extension": ".py",
   "mimetype": "text/x-python",
   "name": "python",
   "nbconvert_exporter": "python",
   "pygments_lexer": "ipython3",
   "version": "3.7.3"
  }
 },
 "nbformat": 4,
 "nbformat_minor": 2
}
